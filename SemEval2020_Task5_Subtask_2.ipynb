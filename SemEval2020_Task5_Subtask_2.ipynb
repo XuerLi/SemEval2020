{
  "nbformat": 4,
  "nbformat_minor": 0,
  "metadata": {
    "colab": {
      "name": "SemEval2020-Task5-Subtask-2.ipynb",
      "provenance": [],
      "authorship_tag": "ABX9TyP3dy21SJWWTzy5+WMSr+Gl",
      "include_colab_link": true
    },
    "kernelspec": {
      "name": "python3",
      "display_name": "Python 3"
    }
  },
  "cells": [
    {
      "cell_type": "markdown",
      "metadata": {
        "id": "view-in-github",
        "colab_type": "text"
      },
      "source": [
        "<a href=\"https://colab.research.google.com/github/lenyabloko/SemEval2020/blob/master/SemEval2020_Task5_Subtask_2.ipynb\" target=\"_parent\"><img src=\"https://colab.research.google.com/assets/colab-badge.svg\" alt=\"Open In Colab\"/></a>"
      ]
    },
    {
      "cell_type": "code",
      "metadata": {
        "id": "c4DctzKMLVOx",
        "colab_type": "code",
        "colab": {}
      },
      "source": [
        "#!pip install allennlp\n",
        "!pip install simplejson\n",
        "\n",
        "from allennlp.predictors.predictor import Predictor\n",
        "predictor = Predictor.from_path(\"https://s3-us-west-2.amazonaws.com/allennlp/models/elmo-constituency-parser-2018.03.14.tar.gz\")\n",
        "prediction = predictor.predict(\n",
        "  sentence=\"Goodfellow's theory has been questioned, however, because the plane made two other sharp turns that would've been impossible if the pilots were unconscious.\"\n",
        ")"
      ],
      "execution_count": 0,
      "outputs": []
    },
    {
      "cell_type": "code",
      "metadata": {
        "id": "EM9zf3aUjAjA",
        "colab_type": "code",
        "colab": {
          "base_uri": "https://localhost:8080/",
          "height": 54
        },
        "outputId": "5c424cda-3108-4d29-e824-a1e4f1d08f92"
      },
      "source": [
        "from allennlp.predictors.predictor import Predictor\n",
        "import simplejson as json\n",
        "\n",
        "reader = json.loads(prediction)\n",
        "\n",
        "prediction == response.json"
      ],
      "execution_count": 80,
      "outputs": [
        {
          "output_type": "stream",
          "text": [
            "dict_items([('word', \"Goodfellow 's theory has been questioned , however , because the plane made two other sharp turns that would 've been impossible if the pilots were unconscious .\"), ('nodeType', 'S'), ('attributes', ['S']), ('link', 'S'), ('children', [{'word': \"Goodfellow 's theory\", 'nodeType': 'NP', 'attributes': ['NP'], 'link': 'NP', 'children': [{'word': \"Goodfellow 's\", 'nodeType': 'NP', 'attributes': ['NP'], 'link': 'NP', 'children': [{'word': 'Goodfellow', 'nodeType': 'NNP', 'attributes': ['NNP'], 'link': 'NNP'}, {'word': \"'s\", 'nodeType': 'POS', 'attributes': ['POS'], 'link': 'POS'}]}, {'word': 'theory', 'nodeType': 'NN', 'attributes': ['NN'], 'link': 'NN'}]}, {'word': \"has been questioned , however , because the plane made two other sharp turns that would 've been impossible if the pilots were unconscious\", 'nodeType': 'VP', 'attributes': ['VP'], 'link': 'VP', 'children': [{'word': 'has', 'nodeType': 'VBZ', 'attributes': ['VBZ'], 'link': 'VBZ'}, {'word': \"been questioned , however , because the plane made two other sharp turns that would 've been impossible if the pilots were unconscious\", 'nodeType': 'VP', 'attributes': ['VP'], 'link': 'VP', 'children': [{'word': 'been', 'nodeType': 'VBN', 'attributes': ['VBN'], 'link': 'VBN'}, {'word': \"questioned , however , because the plane made two other sharp turns that would 've been impossible if the pilots were unconscious\", 'nodeType': 'VP', 'attributes': ['VP'], 'link': 'VP', 'children': [{'word': 'questioned', 'nodeType': 'VBN', 'attributes': ['VBN'], 'link': 'VBN'}, {'word': ',', 'nodeType': ',', 'attributes': [','], 'link': ','}, {'word': 'however', 'nodeType': 'ADVP', 'attributes': ['ADVP'], 'link': 'ADVP', 'children': [{'word': 'however', 'nodeType': 'RB', 'attributes': ['RB'], 'link': 'RB'}]}, {'word': ',', 'nodeType': ',', 'attributes': [','], 'link': ','}, {'word': \"because the plane made two other sharp turns that would 've been impossible if the pilots were unconscious\", 'nodeType': 'SBAR', 'attributes': ['SBAR'], 'link': 'SBAR', 'children': [{'word': 'because', 'nodeType': 'IN', 'attributes': ['IN'], 'link': 'IN'}, {'word': \"the plane made two other sharp turns that would 've been impossible if the pilots were unconscious\", 'nodeType': 'S', 'attributes': ['S'], 'link': 'S', 'children': [{'word': 'the plane', 'nodeType': 'NP', 'attributes': ['NP'], 'link': 'NP', 'children': [{'word': 'the', 'nodeType': 'DT', 'attributes': ['DT'], 'link': 'DT'}, {'word': 'plane', 'nodeType': 'NN', 'attributes': ['NN'], 'link': 'NN'}]}, {'word': \"made two other sharp turns that would 've been impossible if the pilots were unconscious\", 'nodeType': 'VP', 'attributes': ['VP'], 'link': 'VP', 'children': [{'word': 'made', 'nodeType': 'VBD', 'attributes': ['VBD'], 'link': 'VBD'}, {'word': \"two other sharp turns that would 've been impossible if the pilots were unconscious\", 'nodeType': 'NP', 'attributes': ['NP'], 'link': 'NP', 'children': [{'word': 'two other sharp turns', 'nodeType': 'NP', 'attributes': ['NP'], 'link': 'NP', 'children': [{'word': 'two', 'nodeType': 'CD', 'attributes': ['CD'], 'link': 'CD'}, {'word': 'other', 'nodeType': 'JJ', 'attributes': ['JJ'], 'link': 'JJ'}, {'word': 'sharp', 'nodeType': 'JJ', 'attributes': ['JJ'], 'link': 'JJ'}, {'word': 'turns', 'nodeType': 'NNS', 'attributes': ['NNS'], 'link': 'NNS'}]}, {'word': \"that would 've been impossible if the pilots were unconscious\", 'nodeType': 'SBAR', 'attributes': ['SBAR'], 'link': 'SBAR', 'children': [{'word': 'that', 'nodeType': 'WHNP', 'attributes': ['WHNP'], 'link': 'WHNP', 'children': [{'word': 'that', 'nodeType': 'WDT', 'attributes': ['WDT'], 'link': 'WDT'}]}, {'word': \"would 've been impossible if the pilots were unconscious\", 'nodeType': 'S', 'attributes': ['S'], 'link': 'S', 'children': [{'word': \"would 've been impossible if the pilots were unconscious\", 'nodeType': 'VP', 'attributes': ['VP'], 'link': 'VP', 'children': [{'word': 'would', 'nodeType': 'MD', 'attributes': ['MD'], 'link': 'MD'}, {'word': \"'ve been impossible if the pilots were unconscious\", 'nodeType': 'VP', 'attributes': ['VP'], 'link': 'VP', 'children': [{'word': \"'ve\", 'nodeType': 'VB', 'attributes': ['VB'], 'link': 'VB'}, {'word': 'been impossible if the pilots were unconscious', 'nodeType': 'VP', 'attributes': ['VP'], 'link': 'VP', 'children': [{'word': 'been', 'nodeType': 'VBN', 'attributes': ['VBN'], 'link': 'VBN'}, {'word': 'impossible', 'nodeType': 'ADJP', 'attributes': ['ADJP'], 'link': 'ADJP', 'children': [{'word': 'impossible', 'nodeType': 'JJ', 'attributes': ['JJ'], 'link': 'JJ'}]}, {'word': 'if the pilots were unconscious', 'nodeType': 'SBAR', 'attributes': ['SBAR'], 'link': 'SBAR', 'children': [{'word': 'if', 'nodeType': 'IN', 'attributes': ['IN'], 'link': 'IN'}, {'word': 'the pilots were unconscious', 'nodeType': 'S', 'attributes': ['S'], 'link': 'S', 'children': [{'word': 'the pilots', 'nodeType': 'NP', 'attributes': ['NP'], 'link': 'NP', 'children': [{'word': 'the', 'nodeType': 'DT', 'attributes': ['DT'], 'link': 'DT'}, {'word': 'pilots', 'nodeType': 'NNS', 'attributes': ['NNS'], 'link': 'NNS'}]}, {'word': 'were unconscious', 'nodeType': 'VP', 'attributes': ['VP'], 'link': 'VP', 'children': [{'word': 'were', 'nodeType': 'VBD', 'attributes': ['VBD'], 'link': 'VBD'}, {'word': 'unconscious', 'nodeType': 'ADJP', 'attributes': ['ADJP'], 'link': 'ADJP', 'children': [{'word': 'unconscious', 'nodeType': 'JJ', 'attributes': ['JJ'], 'link': 'JJ'}]}]}]}]}]}]}]}]}]}]}]}]}]}]}]}]}, {'word': '.', 'nodeType': '.', 'attributes': ['.'], 'link': '.'}])])\n"
          ],
          "name": "stdout"
        }
      ]
    },
    {
      "cell_type": "code",
      "metadata": {
        "id": "u7r33OAFtOM9",
        "colab_type": "code",
        "colab": {}
      },
      "source": [
        "def extract_modal(obj):\n",
        "    \"\"\"Pull all values of specified key from nested JSON.\"\"\"\n",
        "    arr = []\n",
        "\n",
        "    def extract(obj, arr):\n",
        "        \"\"\"Recursively search for values of key in JSON tree.\"\"\"\n",
        "        if isinstance(obj, dict):\n",
        "            for k, v in obj.items():\n",
        "                if isinstance(v, (dict, list)):\n",
        "                    extract(v, arr)\n",
        "                elif k == 'link' and v == 'MD':\n",
        "                    arr.append(v)\n",
        "        elif isinstance(obj, list):\n",
        "            for item in obj:\n",
        "                if len(arr)==0:  \n",
        "                    extract(item, arr)\n",
        "                elif arr[len(arr)-1] == 'MD':\n",
        "                    arr[len(arr)-1] = item\n",
        "        return arr\n",
        "\n",
        "    results = extract(obj, arr)\n",
        "    return results"
      ],
      "execution_count": 0,
      "outputs": []
    },
    {
      "cell_type": "code",
      "metadata": {
        "colab_type": "code",
        "outputId": "20f498ac-773f-4ded-c7c1-a3c5d000de3f",
        "id": "8XYFHp-5KyQ7",
        "colab": {
          "base_uri": "https://localhost:8080/",
          "height": 54
        }
      },
      "source": [
        "from allennlp.predictors.predictor import Predictor\n",
        "import simplejson as json\n",
        "\n",
        "import codecs\n",
        "\n",
        "reader = codecs.getreader(\"utf-8\")\n",
        "\n",
        "#prediction.items()\n",
        "for key, value in prediction.items():\n",
        "  if (key=='hierplane_tree'):\n",
        "    for key, value in value.items():\n",
        "      if (key=='root'):\n",
        "        for key, value in value.items():\n",
        "          if (key == 'children'):\n",
        "            mod = extract_modal(value)\n",
        "            print(mod[0])\n"
      ],
      "execution_count": 297,
      "outputs": [
        {
          "output_type": "stream",
          "text": [
            "{'word': \"'ve been impossible if the pilots were unconscious\", 'nodeType': 'VP', 'attributes': ['VP'], 'link': 'VP', 'children': [{'word': \"'ve\", 'nodeType': 'VB', 'attributes': ['VB'], 'link': 'VB'}, {'word': 'been impossible if the pilots were unconscious', 'nodeType': 'VP', 'attributes': ['VP'], 'link': 'VP', 'children': [{'word': 'been', 'nodeType': 'VBN', 'attributes': ['VBN'], 'link': 'VBN'}, {'word': 'impossible', 'nodeType': 'ADJP', 'attributes': ['ADJP'], 'link': 'ADJP', 'children': [{'word': 'impossible', 'nodeType': 'JJ', 'attributes': ['JJ'], 'link': 'JJ'}]}, {'word': 'if the pilots were unconscious', 'nodeType': 'SBAR', 'attributes': ['SBAR'], 'link': 'SBAR', 'children': [{'word': 'if', 'nodeType': 'IN', 'attributes': ['IN'], 'link': 'IN'}, {'word': 'the pilots were unconscious', 'nodeType': 'S', 'attributes': ['S'], 'link': 'S', 'children': [{'word': 'the pilots', 'nodeType': 'NP', 'attributes': ['NP'], 'link': 'NP', 'children': [{'word': 'the', 'nodeType': 'DT', 'attributes': ['DT'], 'link': 'DT'}, {'word': 'pilots', 'nodeType': 'NNS', 'attributes': ['NNS'], 'link': 'NNS'}]}, {'word': 'were unconscious', 'nodeType': 'VP', 'attributes': ['VP'], 'link': 'VP', 'children': [{'word': 'were', 'nodeType': 'VBD', 'attributes': ['VBD'], 'link': 'VBD'}, {'word': 'unconscious', 'nodeType': 'ADJP', 'attributes': ['ADJP'], 'link': 'ADJP', 'children': [{'word': 'unconscious', 'nodeType': 'JJ', 'attributes': ['JJ'], 'link': 'JJ'}]}]}]}]}]}]}\n"
          ],
          "name": "stdout"
        }
      ]
    }
  ]
}
{
  "nbformat": 4,
  "nbformat_minor": 0,
  "metadata": {
    "colab": {
      "name": "SemEval2020-Task5-Subtask-2.ipynb",
      "provenance": [],
      "collapsed_sections": [],
      "authorship_tag": "ABX9TyOs0oAKbtz6lnlX29q/O2L5",
      "include_colab_link": true
    },
    "kernelspec": {
      "name": "python3",
      "display_name": "Python 3"
    }
  },
  "cells": [
    {
      "cell_type": "markdown",
      "metadata": {
        "id": "view-in-github",
        "colab_type": "text"
      },
      "source": [
        "<a href=\"https://colab.research.google.com/github/lenyabloko/SemEval2020/blob/master/SemEval2020_Task5_Subtask_2.ipynb\" target=\"_parent\"><img src=\"https://colab.research.google.com/assets/colab-badge.svg\" alt=\"Open In Colab\"/></a>"
      ]
    },
    {
      "cell_type": "code",
      "metadata": {
        "id": "jlTujgsUAGFA",
        "colab_type": "code",
        "colab": {}
      },
      "source": [
        "from google.colab import drive\n",
        "drive.mount('/content/gdrive')\n",
        "\n",
        "!cp /content/gdrive/My\\ Drive/Colab\\ Notebooks/Subtask-1/train.csv /content\n",
        "!cp /content/gdrive/My\\ Drive/Colab\\ Notebooks/Subtask-1/test.csv /content"
      ],
      "execution_count": 0,
      "outputs": []
    },
    {
      "cell_type": "code",
      "metadata": {
        "id": "c4DctzKMLVOx",
        "colab_type": "code",
        "colab": {}
      },
      "source": [
        "!pip install allennlp\n",
        "!pip install nltk\n",
        "\n",
        "from allennlp.predictors.predictor import Predictor\n",
        "predictor = Predictor.from_path(\"https://s3-us-west-2.amazonaws.com/allennlp/models/elmo-constituency-parser-2018.03.14.tar.gz\")"
      ],
      "execution_count": 0,
      "outputs": []
    },
    {
      "cell_type": "code",
      "metadata": {
        "id": "tHIQLmP3AnyF",
        "colab_type": "code",
        "colab": {
          "base_uri": "https://localhost:8080/",
          "height": 51
        },
        "outputId": "e4535df6-803e-49c9-e2db-4765edb8154d"
      },
      "source": [
        "import nltk\n",
        "nltk.download('punkt')\n",
        "\n",
        "import pandas as pd\n",
        "\n",
        "from progress.bar import IncrementalBar\n",
        "from time import sleep\n",
        "\n",
        "prefix = '/content/'\n",
        "train_df = pd.read_csv(prefix + 'train.csv', header=None)\n",
        "train_df=train_df.drop(index=0)\n",
        "  \n",
        "train_df = pd.DataFrame({\n",
        "    'id':train_df[0].replace(r\"[A-Za-z]\", \"\", regex=True),\n",
        "    'labels':train_df[1],\n",
        "    'alpha':['a']*train_df.shape[0],\n",
        "    'text': train_df[2].replace(r'\\n', ' ', regex=True)\n",
        "})\n",
        "\n",
        "bar = IncrementalBar('Simplifying sentences', max = train_df.count)\n",
        "for ind in train_df.index: \n",
        "  prediction = predictor.predict(sentence=train_df['text'][ind])\n",
        "  train_df['text'][ind] = simplify()\n",
        "  bar.next()\n",
        "  sleep(1)\n",
        "\n",
        "bar.finish()\n",
        "train_df.to_csv(prefix+'train.tsv', sep='\\t', index=False, header=False)\n",
        "train_df.head()"
      ],
      "execution_count": 0,
      "outputs": [
        {
          "output_type": "stream",
          "text": [
            "[nltk_data] Downloading package punkt to /root/nltk_data...\n",
            "[nltk_data]   Package punkt is already up-to-date!\n"
          ],
          "name": "stdout"
        }
      ]
    },
    {
      "cell_type": "code",
      "metadata": {
        "id": "u7r33OAFtOM9",
        "colab_type": "code",
        "colab": {}
      },
      "source": [
        "def extract_modal(obj):\n",
        "    \"\"\"Pull all values of specified key from nested JSON.\"\"\"\n",
        "    arr = list()\n",
        "\n",
        "    def extract(obj, arr):\n",
        "        \n",
        "        if isinstance(obj, dict):\n",
        "            for k, v in obj.items():\n",
        "                if isinstance(v, (dict, list)):\n",
        "                    extract(v, arr)\n",
        "                    \n",
        "                elif k == 'nodeType' and v == 'MD':\n",
        "                    arr.append(v)\n",
        "                elif k == 'nodeType' and v == 'NP' and not 'MD' in arr:\n",
        "                    arr.append(v)    \n",
        "\n",
        "        elif isinstance(obj, list):\n",
        "            for item in obj:\n",
        "              if 'MD' in arr:\n",
        "                  arr.append(item) \n",
        "              else:    \n",
        "                if len(arr) > 0 and arr[len(arr)-1] == 'NP':\n",
        "                    arr[len(arr)-1] = item\n",
        "                extract(item, arr)\n",
        "                \n",
        "        return arr\n",
        "\n",
        "    results = extract(obj, arr)\n",
        "    return results"
      ],
      "execution_count": 0,
      "outputs": []
    },
    {
      "cell_type": "code",
      "metadata": {
        "id": "Gm_UQ7ejvUsN",
        "colab_type": "code",
        "colab": {}
      },
      "source": [
        "def separate_children(obj):\n",
        "    \"\"\"Pull all values of specified key from nested JSON.\"\"\"\n",
        "    arr = list()\n",
        "\n",
        "    def separate(obj, arr):\n",
        "        \n",
        "        if isinstance(obj, dict):\n",
        "\n",
        "            for k, v in obj.items():\n",
        "              if k != 'children':\n",
        "                if isinstance(v, (dict, list)):\n",
        "                    separate(v, arr)\n",
        "                elif k == 'word':      \n",
        "                  arr.append(v)\n",
        "        elif isinstance(obj, list):\n",
        "            for item in obj:\n",
        "                separate(item, arr)\n",
        "         \n",
        "        return arr\n",
        "\n",
        "    results = separate(obj, arr)\n",
        "    return results"
      ],
      "execution_count": 0,
      "outputs": []
    },
    {
      "cell_type": "code",
      "metadata": {
        "colab_type": "code",
        "id": "8XYFHp-5KyQ7",
        "colab": {}
      },
      "source": [
        "def extract_constituents():\n",
        " for key, value in prediction.items():\n",
        "  if (key=='hierplane_tree'):\n",
        "    for key, value in value.items():\n",
        "      if (key=='root'):\n",
        "        for key, value in value.items():\n",
        "          if (key == 'children'):\n",
        "            return extract_modal(value)"
      ],
      "execution_count": 0,
      "outputs": []
    },
    {
      "cell_type": "code",
      "metadata": {
        "id": "e6BHdEZXkTu8",
        "colab_type": "code",
        "colab": {}
      },
      "source": [
        "import nltk\n",
        "from nltk.tokenize import word_tokenize\n",
        "\n",
        "def simplify():\n",
        "  simpler = ''\n",
        "  constit = list(extract_constituents())\n",
        "\n",
        "  con = list()\n",
        "  for c in reversed(constit):\n",
        "      p = separate_children(c)\n",
        "      for parent in list(p):\n",
        "        tokens = word_tokenize(parent)\n",
        "        if len(tokens) > 1:\n",
        "          con.append(parent)\n",
        "\n",
        "  if (len(con) > 1):      \n",
        "    return con[1]+' '+con[0]\n",
        "  if (len(con) > 0):      \n",
        "    return con[0]\n",
        "  return ''"
      ],
      "execution_count": 0,
      "outputs": []
    },
    {
      "cell_type": "code",
      "metadata": {
        "id": "Dka-BOO1E7QG",
        "colab_type": "code",
        "colab": {
          "base_uri": "https://localhost:8080/",
          "height": 34
        },
        "outputId": "ddf6da14-f196-401c-9867-52a957e5075b"
      },
      "source": [
        "prediction = predictor.predict(\n",
        "  sentence=\"The new request, if approved, would keep the military forces on the border through Jan.\"\n",
        ")\n",
        "simplify()"
      ],
      "execution_count": 104,
      "outputs": [
        {
          "output_type": "execute_result",
          "data": {
            "text/plain": [
              "'keep the military forces on the border through Jan.'"
            ]
          },
          "metadata": {
            "tags": []
          },
          "execution_count": 104
        }
      ]
    }
  ]
}